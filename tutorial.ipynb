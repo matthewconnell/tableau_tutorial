{
 "cells": [
  {
   "cell_type": "markdown",
   "metadata": {},
   "source": [
    "## Tableau and Tabpy\n",
    "\n",
    "#### Getting Started:\n",
    "\n",
    "1. In a new terminal window, type:\n",
    "- ```pip install tabpy```\n",
    "- ```pip install tabpy-client```\n",
    "- ```tabpy```\n",
    "\n",
    "\n",
    "This should start a server allowing you to use that terminal window as a server for Tableau to connect to.\n",
    "\n",
    "###### Reference: https://github.com/tableau/TabPy/blob/master/docs/server-install.md"
   ]
  },
  {
   "cell_type": "markdown",
   "metadata": {},
   "source": [
    "#### Loading Tableau\n",
    "\n",
    "Open Tableau and connect to the \"Sample - Superstore\" dataset \n",
    "- (probably in `Documents > My Tableau Repository > Datasources > 2020.2 > en_US-US > Sample Superstore.xls` )\n",
    "\n",
    "In order to connect to the Tableau server the first time, you'll have to do the following: \n",
    "- Help > Settings and performance > Manage analytics extension connection\n",
    "- Choose `TabPy/External API` from the from the `Select an Analytics Extension` dropdown\n",
    "- Choose `localhost` from the `Server` dropdown.\n",
    "- Type `9004` in the `Port` section"
   ]
  },
  {
   "cell_type": "markdown",
   "metadata": {},
   "source": [
    "Next, import the necessary libraries:"
   ]
  },
  {
   "cell_type": "code",
   "execution_count": 2,
   "metadata": {},
   "outputs": [],
   "source": [
    "import numpy as np\n",
    "import tabpy_client"
   ]
  },
  {
   "cell_type": "markdown",
   "metadata": {},
   "source": [
    "Define a connection for later, so we know which server to send the function to\n"
   ]
  },
  {
   "cell_type": "code",
   "execution_count": 3,
   "metadata": {},
   "outputs": [],
   "source": [
    "connection = tabpy_client.Client('http://localhost:9004/')"
   ]
  },
  {
   "cell_type": "markdown",
   "metadata": {},
   "source": [
    "Let's do a little feature-engineering by multiplying two columns together.\n",
    "\n",
    "This is a very simple manipulation, but you can use `tabpy` to make machine-learning models and more."
   ]
  },
  {
   "cell_type": "code",
   "execution_count": 14,
   "metadata": {},
   "outputs": [],
   "source": [
    "def multiply_two_columns(col1, col2):\n",
    "    \"\"\"\n",
    "     Multiplies two columns\n",
    "\n",
    "    Arguments\n",
    "    ---------\n",
    "    col1 : list\n",
    "        A column from Tableau\n",
    "        \n",
    "    col2 : list\n",
    "        A column from Tableau\n",
    "\n",
    "    Returns\n",
    "    -------\n",
    "    col3 : list\n",
    "        A new column for the DataFrame\n",
    "    \"\"\"\n",
    "\n",
    "    col3 = np.multiply(col1, col2)\n",
    "    \n",
    "    return col3.tolist()"
   ]
  },
  {
   "cell_type": "code",
   "execution_count": 15,
   "metadata": {},
   "outputs": [],
   "source": [
    "# Sends the function to the server to be used by Tableau\n",
    "connection.deploy('ColumnMultiplier',  # name, can be anything. This is the name you'll be referencing later\n",
    "                  multiply_two_columns,   # the name of the function we're sending\n",
    "                  description = 'Returns the product of two columns', # A short docstring\n",
    "                  override=True)  # force update (in case you want to change the function)"
   ]
  },
  {
   "cell_type": "markdown",
   "metadata": {},
   "source": [
    "Next, go to your Tableau workbook, go to a sheet, and right-click on the left pane (where the column names are)\n",
    "\n",
    "Choose `Create > Calculated field...`"
   ]
  },
  {
   "cell_type": "markdown",
   "metadata": {},
   "source": [
    "Type the following (or copy and paste) into the new window:\n",
    "\n",
    "```\n",
    "SCRIPT_REAL(\"\n",
    "\n",
    "return tabpy.query('ColumnMultiplier', _arg1, _arg2)['response']\n",
    "\n",
    "\",\n",
    "\n",
    "SUM([Quantity]), SUM([Profit]))\n",
    "```"
   ]
  },
  {
   "cell_type": "markdown",
   "metadata": {},
   "source": [
    "To see the calculation in action:\n",
    "\n",
    "- drag `State` to rows\n",
    "- Click on 'Show Me' in the top-right\n",
    "- Choose the (second) map\n",
    "- You should have a now\n",
    "- Drag `Calculation 1` (or whatever you named the new Calculated Field) to color\n",
    "- You're done!\n",
    "\n"
   ]
  },
  {
   "cell_type": "markdown",
   "metadata": {},
   "source": [
    "### Further Reading\n",
    "\n",
    "If you want to try something more complicated, [here](https://www.tableau.com/about/blog/2017/1/building-advanced-analytics-applications-tabpy-64916) is a blog where a Jupyter notebook is used to make multiple machine-learning models and return a diagnosis based on attributes of a tumor. \n",
    "\n",
    "[Here](https://github.com/tableau/TabPy) is the Tabpy github page.\n",
    "\n",
    "[Here](https://help.tableau.com/current/prep/en-us/prep_scripts._R.htm) is a post to get you started using R with Tableau."
   ]
  },
  {
   "cell_type": "code",
   "execution_count": null,
   "metadata": {},
   "outputs": [],
   "source": []
  }
 ],
 "metadata": {
  "kernelspec": {
   "display_name": "Python 3",
   "language": "python",
   "name": "python3"
  },
  "language_info": {
   "codemirror_mode": {
    "name": "ipython",
    "version": 3
   },
   "file_extension": ".py",
   "mimetype": "text/x-python",
   "name": "python",
   "nbconvert_exporter": "python",
   "pygments_lexer": "ipython3",
   "version": "3.7.6"
  }
 },
 "nbformat": 4,
 "nbformat_minor": 4
}
