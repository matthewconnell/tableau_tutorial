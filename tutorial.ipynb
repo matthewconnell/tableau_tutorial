{
 "cells": [
  {
   "cell_type": "markdown",
   "metadata": {},
   "source": [
    "What to do:\n",
    "\n",
    "1. In a new terminal window, type:\n",
    "- ```pip install tabpy```\n",
    "- ```pip install tabpy-client```\n",
    "- ```tabpy```\n",
    "\n",
    "\n",
    "This should start a server allowing you to use that terminal window as a server for Tableau to connect to.\n",
    "\n",
    "###### Reference: https://github.com/tableau/TabPy/blob/master/docs/server-install.md\n",
    "\n",
    "2. Run the cells in this notebook.\n",
    "\n",
    "3. Open Tableau and connect to the \"Sample - Superstore\" dataset \n",
    "- (probably in `Documents > My Tableau Repository > Datasources > 2020.2 > en_US-US > Sample Superstore.xls` )\n",
    "\n",
    "In order to connect to the Tableau server the first time, you'll have to do the following: \n",
    "- Help > Settings and performance > Manage analytics extension connection\n",
    "- Choose `TabPy/External API` from the from the `Select an Analytics Extension` dropdown\n",
    "- Choose `localhost` from the `Server` dropdown.\n",
    "- Type `9004` in the `Port` section"
   ]
  },
  {
   "cell_type": "markdown",
   "metadata": {},
   "source": [
    "Next, import the necessary libraries:"
   ]
  },
  {
   "cell_type": "code",
   "execution_count": 2,
   "metadata": {},
   "outputs": [],
   "source": [
    "import numpy as np\n",
    "import tabpy_client"
   ]
  },
  {
   "cell_type": "code",
   "execution_count": 3,
   "metadata": {},
   "outputs": [],
   "source": [
    "# Define a connection for later, so we know which server to send the function to\n",
    "connection = tabpy_client.Client('http://localhost:9004/')"
   ]
  },
  {
   "cell_type": "code",
   "execution_count": 12,
   "metadata": {},
   "outputs": [],
   "source": [
    "def multiply_two_columns(col1, col2):\n",
    "    \"\"\"\n",
    "     Multiplies two columns\n",
    "\n",
    "    Arguments\n",
    "    ---------\n",
    "    col1 : list\n",
    "        A column from Tableau\n",
    "        \n",
    "    col2 : list\n",
    "        A column from Tableau\n",
    "\n",
    "    Returns\n",
    "    -------\n",
    "    col3 : list\n",
    "        A new column for the DataFrame\n",
    "    \"\"\"\n",
    "\n",
    "    col3 = np.multiply(col1, col2)\n",
    "    \n",
    "    return col3.tolist()"
   ]
  },
  {
   "cell_type": "code",
   "execution_count": 13,
   "metadata": {},
   "outputs": [],
   "source": [
    "# Sends the function to the server to be used by Tableau\n",
    "connection.deploy('ColumnMultiplier',  # name, can be anything. This is the name you'll be referencing later\n",
    "                  multiply_two_columns,   # the name of the function we're sending\n",
    "                  description = 'Returns the product of two columns', # A short docstring\n",
    "                  override=True)  # force update (in case you want to change the function)"
   ]
  },
  {
   "cell_type": "markdown",
   "metadata": {},
   "source": [
    "Next, go to your Tableau workbook, go to a sheet, and right-click on the left pane (where the column names are)\n",
    "\n",
    "Choose `Create > Calculated field...`"
   ]
  },
  {
   "cell_type": "markdown",
   "metadata": {},
   "source": [
    "Type the following (or copy and paste) into the new window:\n",
    "\n",
    "```\n",
    "SCRIPT_REAL(\"\n",
    "\n",
    "return tabpy.query(ColumnMultiplier, _arg1, _arg2)['response']\n",
    "\n",
    "\",\n",
    "\n",
    "[quantity], [profit]\n",
    "```"
   ]
  },
  {
   "cell_type": "code",
   "execution_count": null,
   "metadata": {},
   "outputs": [],
   "source": []
  }
 ],
 "metadata": {
  "kernelspec": {
   "display_name": "Python 3",
   "language": "python",
   "name": "python3"
  },
  "language_info": {
   "codemirror_mode": {
    "name": "ipython",
    "version": 3
   },
   "file_extension": ".py",
   "mimetype": "text/x-python",
   "name": "python",
   "nbconvert_exporter": "python",
   "pygments_lexer": "ipython3",
   "version": "3.7.6"
  }
 },
 "nbformat": 4,
 "nbformat_minor": 4
}
